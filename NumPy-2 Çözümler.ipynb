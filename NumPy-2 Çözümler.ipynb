{
 "cells": [
  {
   "cell_type": "code",
   "execution_count": 1,
   "metadata": {},
   "outputs": [
    {
     "data": {
      "text/plain": [
       "array([[ 0,  1],\n",
       "       [ 2,  3],\n",
       "       [ 4,  5],\n",
       "       [ 6,  7],\n",
       "       [ 8,  9],\n",
       "       [10, 11],\n",
       "       [12, 13],\n",
       "       [14, 15],\n",
       "       [16, 17],\n",
       "       [18, 19],\n",
       "       [20, 21],\n",
       "       [22, 23],\n",
       "       [24, 25],\n",
       "       [26, 27],\n",
       "       [28, 29]])"
      ]
     },
     "execution_count": 1,
     "metadata": {},
     "output_type": "execute_result"
    }
   ],
   "source": [
    "# 1) 0-29 arası(29 dahil, toplam 30 tam sayı) tam sayılardan oluşan bir boyutlu bir array oluşturun ardından bu array'in shape'ini (15,2) şeklinde güncelleyip 2 boyutlu hale getirin.\n",
    "\n",
    "import numpy as np\n",
    "\n",
    "arr = np.array(range(30)).reshape(15,2)\n",
    "arr"
   ]
  },
  {
   "cell_type": "code",
   "execution_count": 2,
   "metadata": {},
   "outputs": [
    {
     "name": "stdout",
     "output_type": "stream",
     "text": [
      "[[[22 72 50 89 42 71]\n",
      "  [22 61 95 70 89 62]\n",
      "  [94  8 91 23 45 28]\n",
      "  [56 55 94 34 49 12]\n",
      "  [59 52 63 39 88 64]]\n",
      "\n",
      " [[10 62 56 14 51 83]\n",
      "  [47 53  8 13 65 80]\n",
      "  [77 21 66 33 88 67]\n",
      "  [48 36 26 52 65 58]\n",
      "  [17 43 57 61 12 35]]]\n",
      "3\n",
      "(2, 5, 6)\n"
     ]
    }
   ],
   "source": [
    "# 2) 60 adet rastgele tam sayı verilerinden oluşan bir boyutlu bir array oluşturun. Devamında bu array'i istediğiniz shapelerde 3 boyutlu hale getirin ve son durumda oluşan array'in boyutunu ve shape'ini kontrol edin.\n",
    "\n",
    "arr = np.random.randint(0,100,60).reshape(2,5,6)\n",
    "print(arr)\n",
    "print(arr.ndim)\n",
    "print(arr.shape)"
   ]
  },
  {
   "cell_type": "code",
   "execution_count": 7,
   "metadata": {},
   "outputs": [
    {
     "name": "stdout",
     "output_type": "stream",
     "text": [
      "[[78  4 82 28 42]\n",
      " [91 35 99 81 29]\n",
      " [76  0 65 91 61]\n",
      " [21  3 47 12 27]]\n",
      "[78  4 82 28 42 91 35 99 81 29 76  0 65 91 61 21  3 47 12 27]\n",
      "1\n",
      "(20,)\n"
     ]
    }
   ],
   "source": [
    "# 3) 20 elemanlı ve sadece rakamlardan oluşan iki boyutlu bir array oluşturun. Ardından bu array'i düzleştirin ve tek boyutlu hale getirin ve son durumda oluşan array'in boyutunu ve shape'ini kontrol edin.\n",
    "\n",
    "arr = np.random.randint(0,100,20).reshape(4,5)\n",
    "print(arr)\n",
    "arr = arr.reshape(-1)\n",
    "print(arr)\n",
    "print(arr.ndim)\n",
    "print(arr.shape)"
   ]
  },
  {
   "cell_type": "code",
   "execution_count": 10,
   "metadata": {},
   "outputs": [
    {
     "name": "stdout",
     "output_type": "stream",
     "text": [
      "[[22 44 57 84  1]\n",
      " [97 70 44 47 10]\n",
      " [29 27 88 86 20]\n",
      " [15 59 57  8 72]]\n",
      "22\n",
      "44\n",
      "57\n",
      "84\n",
      "1\n",
      "97\n",
      "70\n",
      "44\n",
      "47\n",
      "10\n",
      "29\n",
      "27\n",
      "88\n",
      "86\n",
      "20\n",
      "15\n",
      "59\n",
      "57\n",
      "8\n",
      "72\n"
     ]
    }
   ],
   "source": [
    "# 4) İstediğiniz herhangi elemanlardan oluşan 2 Boyutlu bir array oluşturun. Oluşturduğunuz bu 2 boyutlu array'in içindeki bütün elemanları hem yavaş yol olan for döngüsüyle hem de daha hızlı yol olan uygun NumPy metoduyla tek tek dönerek ekrana yazdırın.\n",
    "\n",
    "arr = np.random.randint(0,100,20).reshape(4,5)\n",
    "print(arr)\n",
    "for i in arr:\n",
    "  for x in i:\n",
    "    print(x)"
   ]
  },
  {
   "cell_type": "code",
   "execution_count": 11,
   "metadata": {},
   "outputs": [
    {
     "name": "stdout",
     "output_type": "stream",
     "text": [
      "22\n",
      "44\n",
      "57\n",
      "84\n",
      "1\n",
      "97\n",
      "70\n",
      "44\n",
      "47\n",
      "10\n",
      "29\n",
      "27\n",
      "88\n",
      "86\n",
      "20\n",
      "15\n",
      "59\n",
      "57\n",
      "8\n",
      "72\n"
     ]
    }
   ],
   "source": [
    "for a in np.nditer(arr):\n",
    "  print(a)"
   ]
  },
  {
   "cell_type": "code",
   "execution_count": 15,
   "metadata": {},
   "outputs": [
    {
     "data": {
      "text/plain": [
       "12"
      ]
     },
     "execution_count": 15,
     "metadata": {},
     "output_type": "execute_result"
    }
   ],
   "source": [
    "# 5) 5,10,15,20,25,30 değerlerinden oluşan bir boyutlu bir array ve\n",
    "#   1,2,3,4,5,6 değerlerinden oluşan başka bir boyutlu bir array oluşturun.\n",
    "#   Bu arraylerinin elemanlarına kendi aralarında 4 işlem uygulayın. İki arrayinde 1.indexindekiler toplansın/çıkartılsın/çarpılsın/bölünsün gibi.\n",
    "\n",
    "arr1 = np.array([5,10,15,20,25,30])\n",
    "arr2 = np.array([1,2,3,4,5,6])\n",
    "arr1[1] + arr2[1]"
   ]
  },
  {
   "cell_type": "code",
   "execution_count": 16,
   "metadata": {},
   "outputs": [
    {
     "data": {
      "text/plain": [
       "8"
      ]
     },
     "execution_count": 16,
     "metadata": {},
     "output_type": "execute_result"
    }
   ],
   "source": [
    "arr1[1] - arr2[1]"
   ]
  },
  {
   "cell_type": "code",
   "execution_count": 17,
   "metadata": {},
   "outputs": [
    {
     "data": {
      "text/plain": [
       "20"
      ]
     },
     "execution_count": 17,
     "metadata": {},
     "output_type": "execute_result"
    }
   ],
   "source": [
    "arr1[1] * arr2[1]"
   ]
  },
  {
   "cell_type": "code",
   "execution_count": 18,
   "metadata": {},
   "outputs": [
    {
     "data": {
      "text/plain": [
       "5.0"
      ]
     },
     "execution_count": 18,
     "metadata": {},
     "output_type": "execute_result"
    }
   ],
   "source": [
    "arr1[1] / arr2[1]"
   ]
  },
  {
   "cell_type": "code",
   "execution_count": 22,
   "metadata": {},
   "outputs": [
    {
     "name": "stdout",
     "output_type": "stream",
     "text": [
      "[62 73 30  3 60 51 86 47 36 63]\n"
     ]
    },
    {
     "data": {
      "text/plain": [
       "511"
      ]
     },
     "execution_count": 22,
     "metadata": {},
     "output_type": "execute_result"
    }
   ],
   "source": [
    "# 6) 0-100 arası rastgele 10 tam sayıdan oluşan bir array oluşturun ve oluşturulan arrayin sum/mean/max/var/std değerlerini inceleyin.\n",
    "\n",
    "arr = np.random.randint(0,100,10)\n",
    "print(arr)\n",
    "arr.sum()"
   ]
  },
  {
   "cell_type": "code",
   "execution_count": 23,
   "metadata": {},
   "outputs": [
    {
     "data": {
      "text/plain": [
       "51.1"
      ]
     },
     "execution_count": 23,
     "metadata": {},
     "output_type": "execute_result"
    }
   ],
   "source": [
    "arr.mean()"
   ]
  },
  {
   "cell_type": "code",
   "execution_count": 24,
   "metadata": {},
   "outputs": [
    {
     "data": {
      "text/plain": [
       "86"
      ]
     },
     "execution_count": 24,
     "metadata": {},
     "output_type": "execute_result"
    }
   ],
   "source": [
    "arr.max()"
   ]
  },
  {
   "cell_type": "code",
   "execution_count": 25,
   "metadata": {},
   "outputs": [
    {
     "data": {
      "text/plain": [
       "504.09000000000003"
      ]
     },
     "execution_count": 25,
     "metadata": {},
     "output_type": "execute_result"
    }
   ],
   "source": [
    "arr.var()"
   ]
  },
  {
   "cell_type": "code",
   "execution_count": 26,
   "metadata": {},
   "outputs": [
    {
     "data": {
      "text/plain": [
       "22.45194869048119"
      ]
     },
     "execution_count": 26,
     "metadata": {},
     "output_type": "execute_result"
    }
   ],
   "source": [
    "arr.std()"
   ]
  },
  {
   "cell_type": "code",
   "execution_count": 28,
   "metadata": {},
   "outputs": [
    {
     "name": "stdout",
     "output_type": "stream",
     "text": [
      "[ 0  1  2  3  4  5  6  7  8  9 10 11 12 13 14 15 16 17 18 19]\n",
      "[500 501 502 503 504 505 506 507 508 509 510 511 512 513 514 515 516 517\n",
      " 518 519 520 521 522 523 524 525 526 527 528 529 530]\n"
     ]
    }
   ],
   "source": [
    "# 7) 0-20 arası(20 dahil değil) tam sayılardan oluşan ve 500-530(530 dahil) arası tam sayılardan oluşan 2 array oluşturun. Ardından bu iki array'i concatenate ederek ekrana yazdırın.\n",
    "\n",
    "arr1 = np.array(range(20))\n",
    "print(arr1)\n",
    "arr2 = np.array(range(500,531))\n",
    "print(arr2)"
   ]
  },
  {
   "cell_type": "code",
   "execution_count": 29,
   "metadata": {},
   "outputs": [
    {
     "data": {
      "text/plain": [
       "array([  0,   1,   2,   3,   4,   5,   6,   7,   8,   9,  10,  11,  12,\n",
       "        13,  14,  15,  16,  17,  18,  19, 500, 501, 502, 503, 504, 505,\n",
       "       506, 507, 508, 509, 510, 511, 512, 513, 514, 515, 516, 517, 518,\n",
       "       519, 520, 521, 522, 523, 524, 525, 526, 527, 528, 529, 530])"
      ]
     },
     "execution_count": 29,
     "metadata": {},
     "output_type": "execute_result"
    }
   ],
   "source": [
    "np.concatenate([arr1,arr2] , axis = 0 )"
   ]
  },
  {
   "cell_type": "code",
   "execution_count": 31,
   "metadata": {},
   "outputs": [
    {
     "name": "stdout",
     "output_type": "stream",
     "text": [
      "[15 16 17 18 19 20 21 22 23 24 25 26 27 28 29 30 31 32 33 34 35 36 37 38\n",
      " 39 40 41 42 43 44 45 46 47 48 49 50]\n",
      "[ 10  11  12  13  14  15  16  17  18  19  20  21  22  23  24  25  26  27\n",
      "  28  29  30  31  32  33  34  35  36  37  38  39  40  41  42  43  44  45\n",
      "  46  47  48  49  50  51  52  53  54  55  56  57  58  59  60  61  62  63\n",
      "  64  65  66  67  68  69  70  71  72  73  74  75  76  77  78  79  80  81\n",
      "  82  83  84  85  86  87  88  89  90  91  92  93  94  95  96  97  98  99\n",
      " 100]\n"
     ]
    }
   ],
   "source": [
    "# 8) 15-50(50 dahil) arası tam sayılardan oluşan bir array oluşturun. Daha sonra 10-100 arası(100 dahil) tam sayılardan oluşan 2.bir array oluşturun. Bu 2 arrayi concatanate ederek 3.bir array oluşturun ve bu array'in 25.index ile 50.index'i(50 dahil) arasındaki değerlerini 888 yapın.\n",
    "\n",
    "arr1 = np.array(range(15,51))\n",
    "print(arr1)\n",
    "arr2 = np.array(range(10,101))\n",
    "print(arr2)"
   ]
  },
  {
   "cell_type": "code",
   "execution_count": 32,
   "metadata": {},
   "outputs": [
    {
     "name": "stdout",
     "output_type": "stream",
     "text": [
      "[ 15  16  17  18  19  20  21  22  23  24  25  26  27  28  29  30  31  32\n",
      "  33  34  35  36  37  38  39  40  41  42  43  44  45  46  47  48  49  50\n",
      "  10  11  12  13  14  15  16  17  18  19  20  21  22  23  24  25  26  27\n",
      "  28  29  30  31  32  33  34  35  36  37  38  39  40  41  42  43  44  45\n",
      "  46  47  48  49  50  51  52  53  54  55  56  57  58  59  60  61  62  63\n",
      "  64  65  66  67  68  69  70  71  72  73  74  75  76  77  78  79  80  81\n",
      "  82  83  84  85  86  87  88  89  90  91  92  93  94  95  96  97  98  99\n",
      " 100]\n"
     ]
    }
   ],
   "source": [
    "arr3 = np.concatenate([arr1,arr2] , axis = 0 )\n",
    "print(arr3)"
   ]
  },
  {
   "cell_type": "code",
   "execution_count": 33,
   "metadata": {},
   "outputs": [
    {
     "name": "stdout",
     "output_type": "stream",
     "text": [
      "[ 15  16  17  18  19  20  21  22  23  24  25  26  27  28  29  30  31  32\n",
      "  33  34  35  36  37  38  39 888 888 888 888 888 888 888 888 888 888 888\n",
      " 888 888 888 888 888 888 888 888 888 888 888 888 888 888 888  25  26  27\n",
      "  28  29  30  31  32  33  34  35  36  37  38  39  40  41  42  43  44  45\n",
      "  46  47  48  49  50  51  52  53  54  55  56  57  58  59  60  61  62  63\n",
      "  64  65  66  67  68  69  70  71  72  73  74  75  76  77  78  79  80  81\n",
      "  82  83  84  85  86  87  88  89  90  91  92  93  94  95  96  97  98  99\n",
      " 100]\n"
     ]
    }
   ],
   "source": [
    "arr3[25:51] = 888\n",
    "print(arr3)"
   ]
  },
  {
   "cell_type": "code",
   "execution_count": 34,
   "metadata": {},
   "outputs": [
    {
     "name": "stdout",
     "output_type": "stream",
     "text": [
      "[[ 0  1  2  3  4]\n",
      " [ 5  6  7  8  9]\n",
      " [10 11 12 13 14]\n",
      " [15 16 17 18 19]\n",
      " [20 21 22 23 24]\n",
      " [25 26 27 28 29]\n",
      " [30 31 32 33 34]\n",
      " [35 36 37 38 39]]\n",
      "[[320 321 322 323 324]\n",
      " [325 326 327 328 329]\n",
      " [330 331 332 333 334]\n",
      " [335 336 337 338 339]\n",
      " [340 341 342 343 344]\n",
      " [345 346 347 348 349]\n",
      " [350 351 352 353 354]\n",
      " [355 356 357 358 359]]\n"
     ]
    }
   ],
   "source": [
    "# 9) 0-40(40 dahil değil) arası değerlerden oluşan (8,5) shape'inde 2 boyutlu bir array ve  320-360(360 dahil değil) değerlerinden oluşan (8,5) shape'inde 2 boyutlubaşka bir array oluşturun. Devamında bu iki array'i hem axis = 0'da hem de axis = 1'de concatenate ederek farkı karşılaştırın.\n",
    "\n",
    "arr1 = np.array(range(40)).reshape(8,5)\n",
    "print(arr1)\n",
    "arr2 = np.array(range(320,360)).reshape(8,5)\n",
    "print(arr2)"
   ]
  },
  {
   "cell_type": "code",
   "execution_count": 35,
   "metadata": {},
   "outputs": [
    {
     "data": {
      "text/plain": [
       "array([[  0,   1,   2,   3,   4],\n",
       "       [  5,   6,   7,   8,   9],\n",
       "       [ 10,  11,  12,  13,  14],\n",
       "       [ 15,  16,  17,  18,  19],\n",
       "       [ 20,  21,  22,  23,  24],\n",
       "       [ 25,  26,  27,  28,  29],\n",
       "       [ 30,  31,  32,  33,  34],\n",
       "       [ 35,  36,  37,  38,  39],\n",
       "       [320, 321, 322, 323, 324],\n",
       "       [325, 326, 327, 328, 329],\n",
       "       [330, 331, 332, 333, 334],\n",
       "       [335, 336, 337, 338, 339],\n",
       "       [340, 341, 342, 343, 344],\n",
       "       [345, 346, 347, 348, 349],\n",
       "       [350, 351, 352, 353, 354],\n",
       "       [355, 356, 357, 358, 359]])"
      ]
     },
     "execution_count": 35,
     "metadata": {},
     "output_type": "execute_result"
    }
   ],
   "source": [
    "np.concatenate([arr1,arr2] , axis = 0 )"
   ]
  },
  {
   "cell_type": "code",
   "execution_count": 36,
   "metadata": {},
   "outputs": [
    {
     "data": {
      "text/plain": [
       "array([[  0,   1,   2,   3,   4, 320, 321, 322, 323, 324],\n",
       "       [  5,   6,   7,   8,   9, 325, 326, 327, 328, 329],\n",
       "       [ 10,  11,  12,  13,  14, 330, 331, 332, 333, 334],\n",
       "       [ 15,  16,  17,  18,  19, 335, 336, 337, 338, 339],\n",
       "       [ 20,  21,  22,  23,  24, 340, 341, 342, 343, 344],\n",
       "       [ 25,  26,  27,  28,  29, 345, 346, 347, 348, 349],\n",
       "       [ 30,  31,  32,  33,  34, 350, 351, 352, 353, 354],\n",
       "       [ 35,  36,  37,  38,  39, 355, 356, 357, 358, 359]])"
      ]
     },
     "execution_count": 36,
     "metadata": {},
     "output_type": "execute_result"
    }
   ],
   "source": [
    "np.concatenate([arr1,arr2] , axis = 1 )"
   ]
  },
  {
   "cell_type": "code",
   "execution_count": 37,
   "metadata": {},
   "outputs": [
    {
     "ename": "AxisError",
     "evalue": "axis 2 is out of bounds for array of dimension 2",
     "output_type": "error",
     "traceback": [
      "\u001b[1;31m---------------------------------------------------------------------------\u001b[0m",
      "\u001b[1;31mAxisError\u001b[0m                                 Traceback (most recent call last)",
      "Cell \u001b[1;32mIn [37], line 3\u001b[0m\n\u001b[0;32m      1\u001b[0m \u001b[39m# 10) 9.Soruda oluşturduğunuz 2 array'i axis = 2'de concatenate etmeye çalışın. Ardından axis = 2'de stacklemeye(yığınlamaya) çalışın. İkisi arasındaki farkı karşılaştırın.\u001b[39;00m\n\u001b[1;32m----> 3\u001b[0m np\u001b[39m.\u001b[39;49mconcatenate([arr1,arr2] , axis \u001b[39m=\u001b[39;49m \u001b[39m2\u001b[39;49m )\n",
      "File \u001b[1;32m<__array_function__ internals>:200\u001b[0m, in \u001b[0;36mconcatenate\u001b[1;34m(*args, **kwargs)\u001b[0m\n",
      "\u001b[1;31mAxisError\u001b[0m: axis 2 is out of bounds for array of dimension 2"
     ]
    }
   ],
   "source": [
    "# 10) 9.Soruda oluşturduğunuz 2 array'i axis = 2'de concatenate etmeye çalışın. Ardından axis = 2'de stacklemeye(yığınlamaya) çalışın. İkisi arasındaki farkı karşılaştırın.\n",
    "\n",
    "np.concatenate([arr1,arr2] , axis = 2 )"
   ]
  },
  {
   "cell_type": "code",
   "execution_count": 38,
   "metadata": {},
   "outputs": [
    {
     "data": {
      "text/plain": [
       "array([[[  0, 320],\n",
       "        [  1, 321],\n",
       "        [  2, 322],\n",
       "        [  3, 323],\n",
       "        [  4, 324]],\n",
       "\n",
       "       [[  5, 325],\n",
       "        [  6, 326],\n",
       "        [  7, 327],\n",
       "        [  8, 328],\n",
       "        [  9, 329]],\n",
       "\n",
       "       [[ 10, 330],\n",
       "        [ 11, 331],\n",
       "        [ 12, 332],\n",
       "        [ 13, 333],\n",
       "        [ 14, 334]],\n",
       "\n",
       "       [[ 15, 335],\n",
       "        [ 16, 336],\n",
       "        [ 17, 337],\n",
       "        [ 18, 338],\n",
       "        [ 19, 339]],\n",
       "\n",
       "       [[ 20, 340],\n",
       "        [ 21, 341],\n",
       "        [ 22, 342],\n",
       "        [ 23, 343],\n",
       "        [ 24, 344]],\n",
       "\n",
       "       [[ 25, 345],\n",
       "        [ 26, 346],\n",
       "        [ 27, 347],\n",
       "        [ 28, 348],\n",
       "        [ 29, 349]],\n",
       "\n",
       "       [[ 30, 350],\n",
       "        [ 31, 351],\n",
       "        [ 32, 352],\n",
       "        [ 33, 353],\n",
       "        [ 34, 354]],\n",
       "\n",
       "       [[ 35, 355],\n",
       "        [ 36, 356],\n",
       "        [ 37, 357],\n",
       "        [ 38, 358],\n",
       "        [ 39, 359]]])"
      ]
     },
     "execution_count": 38,
     "metadata": {},
     "output_type": "execute_result"
    }
   ],
   "source": [
    "np.stack([arr1,arr2] , axis = 2 )"
   ]
  },
  {
   "cell_type": "code",
   "execution_count": 40,
   "metadata": {},
   "outputs": [
    {
     "data": {
      "text/plain": [
       "(array([ 5, 13], dtype=int64),)"
      ]
     },
     "execution_count": 40,
     "metadata": {},
     "output_type": "execute_result"
    }
   ],
   "source": [
    "# 11) [1, 20, 25, 4, 4, 5, 4, 4, 1, 6, 9, 12, 1, 5] değerlerinden oluşan bir boyutlu bir array oluşturun. Devamında bu array'in içinde değeri 5'e eşit olan değerlerin indexleri bulun.\n",
    "\n",
    "arr = np.array([1, 20, 25, 4, 4, 5, 4, 4, 1, 6, 9, 12, 1, 5])\n",
    "np.where(arr == 5)"
   ]
  },
  {
   "cell_type": "code",
   "execution_count": 41,
   "metadata": {},
   "outputs": [
    {
     "data": {
      "text/plain": [
       "(array([ 1,  3,  4,  6,  7,  9, 11], dtype=int64),)"
      ]
     },
     "execution_count": 41,
     "metadata": {},
     "output_type": "execute_result"
    }
   ],
   "source": [
    "# 12) Yukarıda oluşturduğunuz array içinde değeri çift olan değerlerin indexlerini bulun.\n",
    "\n",
    "np.where(arr%2 == 0)"
   ]
  },
  {
   "cell_type": "code",
   "execution_count": 42,
   "metadata": {},
   "outputs": [
    {
     "data": {
      "text/plain": [
       "(array([ 1,  2,  5,  9, 10, 11, 13], dtype=int64),)"
      ]
     },
     "execution_count": 42,
     "metadata": {},
     "output_type": "execute_result"
    }
   ],
   "source": [
    "# 13) Yukarıda oluşturduğunuz array içinde değeri 4'den büyük olan değerlerin indexlerini bulun.\n",
    "\n",
    "np.where(arr > 4)"
   ]
  },
  {
   "cell_type": "code",
   "execution_count": 43,
   "metadata": {},
   "outputs": [
    {
     "data": {
      "text/plain": [
       "(array([ 1,  2,  5, 13], dtype=int64),)"
      ]
     },
     "execution_count": 43,
     "metadata": {},
     "output_type": "execute_result"
    }
   ],
   "source": [
    "# 14) Yukarıda oluşturduğunuz array içinde değeri 5'e tam bölünen değerlerin indexlerini bulun.\n",
    "\n",
    "np.where(arr%5 == 0)"
   ]
  },
  {
   "cell_type": "code",
   "execution_count": 44,
   "metadata": {},
   "outputs": [
    {
     "name": "stdout",
     "output_type": "stream",
     "text": [
      "[98]\n"
     ]
    }
   ],
   "source": [
    "# 15) 85-100(100 dahil) arasından rastgele 1 tam sayı seçin\n",
    "\n",
    "arr = np.random.randint(85,101,1)\n",
    "print(arr)"
   ]
  },
  {
   "cell_type": "code",
   "execution_count": 45,
   "metadata": {},
   "outputs": [
    {
     "name": "stdout",
     "output_type": "stream",
     "text": [
      "[[96 71 99]\n",
      " [15 99 30]\n",
      " [25 17 34]]\n"
     ]
    }
   ],
   "source": [
    "# 16) İki basamaklı tam sayılar arasından rastgele sayılar seçerek (3,3) shape'inde bir array oluşturun.\n",
    "\n",
    "arr = np.random.randint(10,100,9).reshape(3,3)\n",
    "print(arr)"
   ]
  },
  {
   "cell_type": "code",
   "execution_count": 47,
   "metadata": {},
   "outputs": [
    {
     "name": "stdout",
     "output_type": "stream",
     "text": [
      "[35 36 37 38 39 40 41 42 43 44 45 46 47 48 49 50 51 52 53 54 55 56 57 58\n",
      " 59]\n",
      "38\n"
     ]
    }
   ],
   "source": [
    "# 17) 35-60 arasındaki tam sayılardan bir array oluşturun, ardından bu array içinden rastgele 1 tam sayı seçin.\n",
    "\n",
    "arr = np.array(range(35,60))\n",
    "print(arr)\n",
    "print(np.random.choice(arr))"
   ]
  },
  {
   "cell_type": "code",
   "execution_count": 52,
   "metadata": {},
   "outputs": [
    {
     "data": {
      "text/plain": [
       "array([[53,  3,  3,  3,  3],\n",
       "       [ 3,  8, 53, 10,  3]])"
      ]
     },
     "execution_count": 52,
     "metadata": {},
     "output_type": "execute_result"
    }
   ],
   "source": [
    "# 18) Sadece [3, 8, 10, 53] değerlerinden oluşan (2,5) shape'inde 2 boyutlu bir array oluşturun.\n",
    "\n",
    "x = [3, 8, 10, 53]\n",
    "arr = np.random.choice(x,10).reshape(2,5)\n",
    "arr"
   ]
  },
  {
   "cell_type": "code",
   "execution_count": null,
   "metadata": {},
   "outputs": [],
   "source": []
  }
 ],
 "metadata": {
  "kernelspec": {
   "display_name": "Python 3.11.0 64-bit",
   "language": "python",
   "name": "python3"
  },
  "language_info": {
   "codemirror_mode": {
    "name": "ipython",
    "version": 3
   },
   "file_extension": ".py",
   "mimetype": "text/x-python",
   "name": "python",
   "nbconvert_exporter": "python",
   "pygments_lexer": "ipython3",
   "version": "3.11.0"
  },
  "orig_nbformat": 4,
  "vscode": {
   "interpreter": {
    "hash": "7c542dbbc07e6010b76b61de8a453dc04d29cd1fae7fbaa29851ecbad9aefb83"
   }
  }
 },
 "nbformat": 4,
 "nbformat_minor": 2
}
